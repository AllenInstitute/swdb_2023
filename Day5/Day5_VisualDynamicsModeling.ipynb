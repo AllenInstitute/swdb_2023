{
 "cells": [
  {
   "attachments": {},
   "cell_type": "markdown",
   "metadata": {},
   "source": [
    "<img src=\"../resources/cropped-SummerWorkshop_Header.png\">  \n",
    "\n",
    "<h1 align=\"center\">Workshop SWDB 2023, Day 5 </h1> \n",
    "<h3 align=\"center\"> August 24, 2023</h3> "
   ]
  },
  {
   "attachments": {},
   "cell_type": "markdown",
   "metadata": {},
   "source": [
    "<div style=\"border-left: 3px solid #000; padding: 1px; padding-left: 10px; background: #F0FAFF; \">\n",
    "\n",
    "<h2> The Questions </h2>\n",
    "    \n",
    "<p> The first week of the course is devoted to question focused workshops and addresing those questions with datasets and computational methods that we will present.  Each day will be devoted to its own question.  \n",
    "    \n",
    "<p> For reference, the questions (as they are currently formulated) are\n",
    "<ul>\n",
    "<li> Day 1:  How do single neurons encode information about the external world?  \n",
    "<li> Day 2:  How do populations of neurons encode information about the external world? \n",
    "<li> Day 3:  How do cell type and circuit architecture contribute to physiological function?\n",
    "<li> Day 4:  What is a behavioral state and how can we define it? \n",
    "<b><li> Day 5:  How does network structure lead to network dynamics?</b>\n",
    "</ul>"
   ]
  },
  {
   "attachments": {},
   "cell_type": "markdown",
   "metadata": {},
   "source": [
    "### Importing of library dependencies"
   ]
  },
  {
   "cell_type": "code",
   "execution_count": 4,
   "metadata": {},
   "outputs": [],
   "source": [
    "import os\n",
    "from pathlib import Path\n",
    "\n",
    "import numpy as np\n",
    "import pandas as pd\n",
    "import matplotlib.pyplot as plt\n",
    "from matplotlib.gridspec import GridSpec # Useful tool to arrange multiple plots in one figure (https://matplotlib.org/stable/api/_as_gen/matplotlib.gridspec.GridSpec.html)\n",
    "%matplotlib inline\n",
    "\n",
    "import torch # to determine if we can do away with it\n",
    "import seaborn as sns\n"
   ]
  },
  {
   "cell_type": "markdown",
   "metadata": {},
   "source": [
    "## data loading"
   ]
  },
  {
   "cell_type": "code",
   "execution_count": 2,
   "metadata": {},
   "outputs": [],
   "source": [
    "from allensdk.brain_observatory.behavior.behavior_project_cache.\\\n",
    "    behavior_neuropixels_project_cache \\\n",
    "    import VisualBehaviorNeuropixelsProjectCache"
   ]
  },
  {
   "cell_type": "code",
   "execution_count": 6,
   "metadata": {},
   "outputs": [
    {
     "name": "stderr",
     "output_type": "stream",
     "text": [
      "ecephys_sessions.csv: 100%|██████████| 64.7k/64.7k [00:00<00:00, 486kMB/s] \n",
      "behavior_sessions.csv: 100%|██████████| 562k/562k [00:00<00:00, 5.91MMB/s]\n",
      "units.csv: 100%|██████████| 132M/132M [00:05<00:00, 25.9MMB/s]   \n",
      "probes.csv: 100%|██████████| 130k/130k [00:00<00:00, 1.00MMB/s] \n",
      "channels.csv: 100%|██████████| 27.9M/27.9M [00:01<00:00, 20.7MMB/s]  \n"
     ]
    }
   ],
   "source": [
    "# where the data will be stored\n",
    "output_dir = \"/src/swdb_2023/Day5/data\"\n",
    "\n",
    "cache = VisualBehaviorNeuropixelsProjectCache.from_s3_cache(\n",
    "            cache_dir=Path(output_dir))"
   ]
  },
  {
   "cell_type": "code",
   "execution_count": 7,
   "metadata": {},
   "outputs": [],
   "source": [
    "# get the metadata tables\n",
    "units_table = cache.get_unit_table()\n",
    "channels_table = cache.get_channel_table()\n",
    "probes_table = cache.get_probe_table()\n",
    "behavior_sessions_table = cache.get_behavior_session_table()\n",
    "ecephys_sessions_table = cache.get_ecephys_session_table()"
   ]
  },
  {
   "cell_type": "markdown",
   "metadata": {},
   "source": [
    "Filtering the sessions table for a session of interest"
   ]
  },
  {
   "cell_type": "code",
   "execution_count": null,
   "metadata": {},
   "outputs": [],
   "source": []
  },
  {
   "cell_type": "code",
   "execution_count": 8,
   "metadata": {},
   "outputs": [
    {
     "data": {
      "text/html": [
       "<div>\n",
       "<style scoped>\n",
       "    .dataframe tbody tr th:only-of-type {\n",
       "        vertical-align: middle;\n",
       "    }\n",
       "\n",
       "    .dataframe tbody tr th {\n",
       "        vertical-align: top;\n",
       "    }\n",
       "\n",
       "    .dataframe thead th {\n",
       "        text-align: right;\n",
       "    }\n",
       "</style>\n",
       "<table border=\"1\" class=\"dataframe\">\n",
       "  <thead>\n",
       "    <tr style=\"text-align: right;\">\n",
       "      <th></th>\n",
       "      <th>behavior_session_id</th>\n",
       "      <th>date_of_acquisition</th>\n",
       "      <th>equipment_name</th>\n",
       "      <th>session_type</th>\n",
       "      <th>mouse_id</th>\n",
       "      <th>genotype</th>\n",
       "      <th>sex</th>\n",
       "      <th>project_code</th>\n",
       "      <th>age_in_days</th>\n",
       "      <th>unit_count</th>\n",
       "      <th>...</th>\n",
       "      <th>channel_count</th>\n",
       "      <th>structure_acronyms</th>\n",
       "      <th>image_set</th>\n",
       "      <th>prior_exposures_to_image_set</th>\n",
       "      <th>session_number</th>\n",
       "      <th>experience_level</th>\n",
       "      <th>prior_exposures_to_omissions</th>\n",
       "      <th>file_id</th>\n",
       "      <th>abnormal_histology</th>\n",
       "      <th>abnormal_activity</th>\n",
       "    </tr>\n",
       "    <tr>\n",
       "      <th>ecephys_session_id</th>\n",
       "      <th></th>\n",
       "      <th></th>\n",
       "      <th></th>\n",
       "      <th></th>\n",
       "      <th></th>\n",
       "      <th></th>\n",
       "      <th></th>\n",
       "      <th></th>\n",
       "      <th></th>\n",
       "      <th></th>\n",
       "      <th></th>\n",
       "      <th></th>\n",
       "      <th></th>\n",
       "      <th></th>\n",
       "      <th></th>\n",
       "      <th></th>\n",
       "      <th></th>\n",
       "      <th></th>\n",
       "      <th></th>\n",
       "      <th></th>\n",
       "      <th></th>\n",
       "    </tr>\n",
       "  </thead>\n",
       "  <tbody>\n",
       "    <tr>\n",
       "      <th>1048189115</th>\n",
       "      <td>1048221709</td>\n",
       "      <td>2020-09-03 14:16:57.913000+00:00</td>\n",
       "      <td>NP.1</td>\n",
       "      <td>EPHYS_1_images_H_3uL_reward</td>\n",
       "      <td>509808</td>\n",
       "      <td>Sst-IRES-Cre/wt;Ai32(RCL-ChR2(H134R)_EYFP)/wt</td>\n",
       "      <td>M</td>\n",
       "      <td>NeuropixelVisualBehavior</td>\n",
       "      <td>264</td>\n",
       "      <td>1925.0</td>\n",
       "      <td>...</td>\n",
       "      <td>2304.0</td>\n",
       "      <td>['APN', 'CA1', 'CA3', 'DG-mo', 'DG-po', 'DG-sg...</td>\n",
       "      <td>H</td>\n",
       "      <td>0.0</td>\n",
       "      <td>2</td>\n",
       "      <td>Novel</td>\n",
       "      <td>1</td>\n",
       "      <td>879</td>\n",
       "      <td>NaN</td>\n",
       "      <td>NaN</td>\n",
       "    </tr>\n",
       "    <tr>\n",
       "      <th>1048196054</th>\n",
       "      <td>1048222325</td>\n",
       "      <td>2020-09-03 14:25:07.290000+00:00</td>\n",
       "      <td>NP.0</td>\n",
       "      <td>EPHYS_1_images_H_3uL_reward</td>\n",
       "      <td>524925</td>\n",
       "      <td>Sst-IRES-Cre/wt;Ai32(RCL-ChR2(H134R)_EYFP)/wt</td>\n",
       "      <td>F</td>\n",
       "      <td>NeuropixelVisualBehavior</td>\n",
       "      <td>166</td>\n",
       "      <td>2288.0</td>\n",
       "      <td>...</td>\n",
       "      <td>2304.0</td>\n",
       "      <td>['APN', 'CA1', 'CA3', 'DG-mo', 'DG-po', 'DG-sg...</td>\n",
       "      <td>H</td>\n",
       "      <td>0.0</td>\n",
       "      <td>2</td>\n",
       "      <td>Novel</td>\n",
       "      <td>1</td>\n",
       "      <td>880</td>\n",
       "      <td>NaN</td>\n",
       "      <td>NaN</td>\n",
       "    </tr>\n",
       "    <tr>\n",
       "      <th>1053941483</th>\n",
       "      <td>1053960987</td>\n",
       "      <td>2020-10-01 17:03:58.362000+00:00</td>\n",
       "      <td>NP.1</td>\n",
       "      <td>EPHYS_1_images_H_3uL_reward</td>\n",
       "      <td>527749</td>\n",
       "      <td>Sst-IRES-Cre/wt;Ai32(RCL-ChR2(H134R)_EYFP)/wt</td>\n",
       "      <td>M</td>\n",
       "      <td>NeuropixelVisualBehavior</td>\n",
       "      <td>180</td>\n",
       "      <td>1543.0</td>\n",
       "      <td>...</td>\n",
       "      <td>2304.0</td>\n",
       "      <td>['APN', 'CA1', 'CA3', 'DG-mo', 'DG-po', 'DG-sg...</td>\n",
       "      <td>H</td>\n",
       "      <td>0.0</td>\n",
       "      <td>2</td>\n",
       "      <td>Novel</td>\n",
       "      <td>1</td>\n",
       "      <td>891</td>\n",
       "      <td>NaN</td>\n",
       "      <td>NaN</td>\n",
       "    </tr>\n",
       "    <tr>\n",
       "      <th>1064644573</th>\n",
       "      <td>1064666428</td>\n",
       "      <td>2020-11-19 15:18:01.372000+00:00</td>\n",
       "      <td>NP.1</td>\n",
       "      <td>EPHYS_1_images_H_3uL_reward</td>\n",
       "      <td>544456</td>\n",
       "      <td>Sst-IRES-Cre/wt;Ai32(RCL-ChR2(H134R)_EYFP)/wt</td>\n",
       "      <td>M</td>\n",
       "      <td>NeuropixelVisualBehavior</td>\n",
       "      <td>120</td>\n",
       "      <td>2254.0</td>\n",
       "      <td>...</td>\n",
       "      <td>2304.0</td>\n",
       "      <td>['APN', 'CA1', 'CA3', 'DG-mo', 'DG-po', 'DG-sg...</td>\n",
       "      <td>H</td>\n",
       "      <td>0.0</td>\n",
       "      <td>2</td>\n",
       "      <td>Novel</td>\n",
       "      <td>1</td>\n",
       "      <td>909</td>\n",
       "      <td>NaN</td>\n",
       "      <td>NaN</td>\n",
       "    </tr>\n",
       "    <tr>\n",
       "      <th>1065905010</th>\n",
       "      <td>1065929713</td>\n",
       "      <td>2020-11-24 14:21:48.847000+00:00</td>\n",
       "      <td>NP.0</td>\n",
       "      <td>EPHYS_1_images_H_3uL_reward</td>\n",
       "      <td>544358</td>\n",
       "      <td>Sst-IRES-Cre/wt;Ai32(RCL-ChR2(H134R)_EYFP)/wt</td>\n",
       "      <td>F</td>\n",
       "      <td>NeuropixelVisualBehavior</td>\n",
       "      <td>126</td>\n",
       "      <td>1998.0</td>\n",
       "      <td>...</td>\n",
       "      <td>2304.0</td>\n",
       "      <td>['APN', 'CA1', 'CA3', 'DG-mo', 'DG-po', 'DG-sg...</td>\n",
       "      <td>H</td>\n",
       "      <td>0.0</td>\n",
       "      <td>2</td>\n",
       "      <td>Novel</td>\n",
       "      <td>1</td>\n",
       "      <td>912</td>\n",
       "      <td>NaN</td>\n",
       "      <td>NaN</td>\n",
       "    </tr>\n",
       "  </tbody>\n",
       "</table>\n",
       "<p>5 rows × 21 columns</p>\n",
       "</div>"
      ],
      "text/plain": [
       "                    behavior_session_id               date_of_acquisition  \\\n",
       "ecephys_session_id                                                          \n",
       "1048189115                   1048221709  2020-09-03 14:16:57.913000+00:00   \n",
       "1048196054                   1048222325  2020-09-03 14:25:07.290000+00:00   \n",
       "1053941483                   1053960987  2020-10-01 17:03:58.362000+00:00   \n",
       "1064644573                   1064666428  2020-11-19 15:18:01.372000+00:00   \n",
       "1065905010                   1065929713  2020-11-24 14:21:48.847000+00:00   \n",
       "\n",
       "                   equipment_name                 session_type  mouse_id  \\\n",
       "ecephys_session_id                                                         \n",
       "1048189115                   NP.1  EPHYS_1_images_H_3uL_reward    509808   \n",
       "1048196054                   NP.0  EPHYS_1_images_H_3uL_reward    524925   \n",
       "1053941483                   NP.1  EPHYS_1_images_H_3uL_reward    527749   \n",
       "1064644573                   NP.1  EPHYS_1_images_H_3uL_reward    544456   \n",
       "1065905010                   NP.0  EPHYS_1_images_H_3uL_reward    544358   \n",
       "\n",
       "                                                         genotype sex  \\\n",
       "ecephys_session_id                                                      \n",
       "1048189115          Sst-IRES-Cre/wt;Ai32(RCL-ChR2(H134R)_EYFP)/wt   M   \n",
       "1048196054          Sst-IRES-Cre/wt;Ai32(RCL-ChR2(H134R)_EYFP)/wt   F   \n",
       "1053941483          Sst-IRES-Cre/wt;Ai32(RCL-ChR2(H134R)_EYFP)/wt   M   \n",
       "1064644573          Sst-IRES-Cre/wt;Ai32(RCL-ChR2(H134R)_EYFP)/wt   M   \n",
       "1065905010          Sst-IRES-Cre/wt;Ai32(RCL-ChR2(H134R)_EYFP)/wt   F   \n",
       "\n",
       "                                project_code  age_in_days  unit_count  ...  \\\n",
       "ecephys_session_id                                                     ...   \n",
       "1048189115          NeuropixelVisualBehavior          264      1925.0  ...   \n",
       "1048196054          NeuropixelVisualBehavior          166      2288.0  ...   \n",
       "1053941483          NeuropixelVisualBehavior          180      1543.0  ...   \n",
       "1064644573          NeuropixelVisualBehavior          120      2254.0  ...   \n",
       "1065905010          NeuropixelVisualBehavior          126      1998.0  ...   \n",
       "\n",
       "                    channel_count  \\\n",
       "ecephys_session_id                  \n",
       "1048189115                 2304.0   \n",
       "1048196054                 2304.0   \n",
       "1053941483                 2304.0   \n",
       "1064644573                 2304.0   \n",
       "1065905010                 2304.0   \n",
       "\n",
       "                                                   structure_acronyms  \\\n",
       "ecephys_session_id                                                      \n",
       "1048189115          ['APN', 'CA1', 'CA3', 'DG-mo', 'DG-po', 'DG-sg...   \n",
       "1048196054          ['APN', 'CA1', 'CA3', 'DG-mo', 'DG-po', 'DG-sg...   \n",
       "1053941483          ['APN', 'CA1', 'CA3', 'DG-mo', 'DG-po', 'DG-sg...   \n",
       "1064644573          ['APN', 'CA1', 'CA3', 'DG-mo', 'DG-po', 'DG-sg...   \n",
       "1065905010          ['APN', 'CA1', 'CA3', 'DG-mo', 'DG-po', 'DG-sg...   \n",
       "\n",
       "                   image_set prior_exposures_to_image_set  session_number  \\\n",
       "ecephys_session_id                                                          \n",
       "1048189115                 H                          0.0               2   \n",
       "1048196054                 H                          0.0               2   \n",
       "1053941483                 H                          0.0               2   \n",
       "1064644573                 H                          0.0               2   \n",
       "1065905010                 H                          0.0               2   \n",
       "\n",
       "                    experience_level prior_exposures_to_omissions  file_id  \\\n",
       "ecephys_session_id                                                           \n",
       "1048189115                     Novel                            1      879   \n",
       "1048196054                     Novel                            1      880   \n",
       "1053941483                     Novel                            1      891   \n",
       "1064644573                     Novel                            1      909   \n",
       "1065905010                     Novel                            1      912   \n",
       "\n",
       "                    abnormal_histology abnormal_activity  \n",
       "ecephys_session_id                                        \n",
       "1048189115                         NaN               NaN  \n",
       "1048196054                         NaN               NaN  \n",
       "1053941483                         NaN               NaN  \n",
       "1064644573                         NaN               NaN  \n",
       "1065905010                         NaN               NaN  \n",
       "\n",
       "[5 rows x 21 columns]"
      ]
     },
     "execution_count": 8,
     "metadata": {},
     "output_type": "execute_result"
    }
   ],
   "source": [
    "sst_novel_sessions = ecephys_sessions_table.loc[(ecephys_sessions_table['genotype'].str.contains('Sst')) & \n",
    "                                            (ecephys_sessions_table['experience_level']=='Novel')]\n",
    "sst_novel_sessions.head()"
   ]
  },
  {
   "cell_type": "code",
   "execution_count": null,
   "metadata": {},
   "outputs": [],
   "source": []
  },
  {
   "cell_type": "code",
   "execution_count": null,
   "metadata": {},
   "outputs": [],
   "source": []
  },
  {
   "attachments": {},
   "cell_type": "markdown",
   "metadata": {},
   "source": [
    "# Workshop 1: Visualizing and modeling the dynamic variability of a single neuron"
   ]
  },
  {
   "attachments": {},
   "cell_type": "markdown",
   "metadata": {},
   "source": [
    "## Variability in neural population responses\n",
    "We will first take a look at exactly how variable neural population responses are by looking at each neuron's responses to visual stimuli."
   ]
  },
  {
   "attachments": {},
   "cell_type": "markdown",
   "metadata": {},
   "source": [
    "Things ToDo:\n",
    "1. Load visual behavior dataset\n",
    "2. Extract responses of example neurons to identical visual stimuli and plot the histogram in responses\n",
    "3. Repeat 2, but this time aligned relative to when the stimulus frame just changed\n",
    "4. Repeat 3, but this time for unfamliar (first session when introduce) vs familiar (in later sessions)\n",
    "5. If possible, condition the visualization on behavioral states from Day 4"
   ]
  },
  {
   "attachments": {},
   "cell_type": "markdown",
   "metadata": {},
   "source": [
    "## Predicting the neural responses"
   ]
  },
  {
   "attachments": {},
   "cell_type": "markdown",
   "metadata": {},
   "source": [
    "Here we will build models to predict the neural responses."
   ]
  },
  {
   "attachments": {},
   "cell_type": "markdown",
   "metadata": {},
   "source": []
  },
  {
   "attachments": {},
   "cell_type": "markdown",
   "metadata": {},
   "source": [
    "# Workshop 2: Visualizing and modeling the dynamic variability of a neural population"
   ]
  },
  {
   "attachments": {},
   "cell_type": "markdown",
   "metadata": {},
   "source": [
    "## Visual behavior dataset\n",
    "1. Load visual behavior dataset\n",
    "2. Predict neural population responses from visual stimuli (NOTE: this is no different then just running individual neuron prediction independently UNLESS noise model differs -> Exercise point)\n",
    "3. Improve on neural population response prediction by including linear interaction with previous time-step neural population responses.\n",
    "4. Assess the inferred interaction between neurons (based on weights). Can anything be said about the inferred functional connectivity?"
   ]
  },
  {
   "attachments": {},
   "cell_type": "markdown",
   "metadata": {},
   "source": [
    "## BONUS: Relating infererd neural interaction in models to "
   ]
  },
  {
   "attachments": {},
   "cell_type": "markdown",
   "metadata": {},
   "source": [
    "## MIcRONS dataset"
   ]
  },
  {
   "attachments": {},
   "cell_type": "markdown",
   "metadata": {},
   "source": [
    "1. Perform neural population response fit and idetnify \"functional\" connectivity\n",
    "2. Relate the functional connectivity to known connectivity"
   ]
  },
  {
   "attachments": {},
   "cell_type": "markdown",
   "metadata": {},
   "source": [
    "1. Load MICrONS dataset\n",
    "2. Predict neural "
   ]
  }
 ],
 "metadata": {
  "kernelspec": {
   "display_name": "Python 3.8.10 64-bit",
   "language": "python",
   "name": "python3"
  },
  "language_info": {
   "codemirror_mode": {
    "name": "ipython",
    "version": 3
   },
   "file_extension": ".py",
   "mimetype": "text/x-python",
   "name": "python",
   "nbconvert_exporter": "python",
   "pygments_lexer": "ipython3",
   "version": "3.8.10"
  },
  "orig_nbformat": 4,
  "vscode": {
   "interpreter": {
    "hash": "31f2aee4e71d21fbe5cf8b01ff0e069b9275f58929596ceb00d14d90e3e16cd6"
   }
  }
 },
 "nbformat": 4,
 "nbformat_minor": 2
}

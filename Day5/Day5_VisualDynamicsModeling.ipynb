{
 "cells": [
  {
   "attachments": {},
   "cell_type": "markdown",
   "metadata": {},
   "source": [
    "<img src=\"../resources/cropped-SummerWorkshop_Header.png\">  \n",
    "\n",
    "<h1 align=\"center\">Workshop SWDB 2023, Day 5 </h1> \n",
    "<h3 align=\"center\"> August 24, 2023</h3> "
   ]
  },
  {
   "attachments": {},
   "cell_type": "markdown",
   "metadata": {},
   "source": [
    "<div style=\"border-left: 3px solid #000; padding: 1px; padding-left: 10px; background: #F0FAFF; \">\n",
    "\n",
    "<h2> The Questions </h2>\n",
    "    \n",
    "<p> The first week of the course is devoted to question focused workshops and addresing those questions with datasets and computational methods that we will present.  Each day will be devoted to its own question.  \n",
    "    \n",
    "<p> For reference, the questions (as they are currently formulated) are\n",
    "<ul>\n",
    "<li> Day 1:  How do single neurons encode information about the external world?  \n",
    "<li> Day 2:  How do populations of neurons encode information about the external world? \n",
    "<li> Day 3:  How do cell type and circuit architecture contribute to physiological function?\n",
    "<li> Day 4:  What is a behavioral state and how can we define it? \n",
    "<b><li> Day 5:  How does network structure lead to network dynamics?</b>\n",
    "</ul>"
   ]
  },
  {
   "attachments": {},
   "cell_type": "markdown",
   "metadata": {},
   "source": [
    "### Importing of library dependencies"
   ]
  },
  {
   "cell_type": "code",
   "execution_count": null,
   "metadata": {},
   "outputs": [],
   "source": [
    "import matplotlib.pyplot as plt\n",
    "import numpy as np\n",
    "import torch # to determine if we can do away with it\n",
    "import seaborn as sns\n"
   ]
  },
  {
   "attachments": {},
   "cell_type": "markdown",
   "metadata": {},
   "source": [
    "# Workshop 1: Visualizing and modeling the dynamic variability of a single neuron"
   ]
  },
  {
   "attachments": {},
   "cell_type": "markdown",
   "metadata": {},
   "source": [
    "## Variability in neural population responses\n",
    "We will first take a look at exactly how variable neural population responses are by looking at each neuron's responses to visual stimuli."
   ]
  },
  {
   "attachments": {},
   "cell_type": "markdown",
   "metadata": {},
   "source": [
    "Things ToDo:\n",
    "1. Load visual behavior dataset\n",
    "2. Extract responses of example neurons to identical visual stimuli and plot the histogram in responses\n",
    "3. Repeat 2, but this time aligned relative to when the stimulus frame just changed\n",
    "4. Repeat 3, but this time for unfamliar (first session when introduce) vs familiar (in later sessions)\n",
    "5. If possible, condition the visualization on behavioral states from Day 4"
   ]
  },
  {
   "attachments": {},
   "cell_type": "markdown",
   "metadata": {},
   "source": [
    "## Predicting the neural responses"
   ]
  },
  {
   "attachments": {},
   "cell_type": "markdown",
   "metadata": {},
   "source": [
    "Here we will build models to predict the neural responses."
   ]
  },
  {
   "attachments": {},
   "cell_type": "markdown",
   "metadata": {},
   "source": []
  },
  {
   "attachments": {},
   "cell_type": "markdown",
   "metadata": {},
   "source": [
    "# Workshop 2: Visualizing and modeling the dynamic variability of a neural population"
   ]
  },
  {
   "attachments": {},
   "cell_type": "markdown",
   "metadata": {},
   "source": [
    "## Visual behavior dataset\n",
    "1. Load visual behavior dataset\n",
    "2. Predict neural population responses from visual stimuli (NOTE: this is no different then just running individual neuron prediction independently UNLESS noise model differs -> Exercise point)\n",
    "3. Improve on neural population response prediction by including linear interaction with previous time-step neural population responses.\n",
    "4. Assess the inferred interaction between neurons (based on weights). Can anything be said about the inferred functional connectivity?"
   ]
  },
  {
   "attachments": {},
   "cell_type": "markdown",
   "metadata": {},
   "source": [
    "## BONUS: Relating infererd neural interaction in models to "
   ]
  },
  {
   "attachments": {},
   "cell_type": "markdown",
   "metadata": {},
   "source": [
    "## MIcRONS dataset"
   ]
  },
  {
   "attachments": {},
   "cell_type": "markdown",
   "metadata": {},
   "source": [
    "1. Perform neural population response fit and idetnify \"functional\" connectivity\n",
    "2. Relate the functional connectivity to known connectivity"
   ]
  },
  {
   "attachments": {},
   "cell_type": "markdown",
   "metadata": {},
   "source": [
    "1. Load MICrONS dataset\n",
    "2. Predict neural "
   ]
  }
 ],
 "metadata": {
  "kernelspec": {
   "display_name": "swdb2023_EM",
   "language": "python",
   "name": "python3"
  },
  "language_info": {
   "codemirror_mode": {
    "name": "ipython",
    "version": 3
   },
   "file_extension": ".py",
   "mimetype": "text/x-python",
   "name": "python",
   "nbconvert_exporter": "python",
   "pygments_lexer": "ipython3",
   "version": "3.8.10"
  },
  "orig_nbformat": 4
 },
 "nbformat": 4,
 "nbformat_minor": 2
}
